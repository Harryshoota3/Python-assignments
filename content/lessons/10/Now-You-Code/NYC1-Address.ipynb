{
 "cells": [
  {
   "cell_type": "markdown",
   "metadata": {},
   "source": [
    "# Now You Code 1: Address\n",
    "\n",
    "Write a Python program to input elements of your postal address and then output them as if they were an address label. The program should use a dictionary to store the address and complete two function defintions one for inputting the address and one for printing the address.\n",
    "\n",
    "**NOTE:** While you most certainly can write this program without using dictionaries or functions, the point of the exercise is to get used to using them!!!\n",
    "\n",
    "Sample Run:\n",
    "\n",
    "```\n",
    "Enter Street: 314 Hinds Hall\n",
    "Enter City: Syracuse\n",
    "Enter State: NY\n",
    "Enter Postal Zip Code: 13244\n",
    "Mailing Address:\n",
    "314 Hinds Hall\n",
    "Syracuse , NY 13244\n",
    "\n",
    "\n"
   ]
  },
  {
   "cell_type": "code",
   "execution_count": 2,
   "metadata": {
    "collapsed": false
   },
   "outputs": [
    {
     "name": "stdout",
     "output_type": "stream",
     "text": [
      "Enter street: 2001 Blake Street\n",
      "Enter city: Denver\n",
      "Enter state: CL\n",
      "Enter postal zip Code: 80205-2000\n",
      "mailing address: \n",
      "2001 Blake Street\n",
      "Denver, CL 80205-2000\n"
     ]
    }
   ],
   "source": [
    "def input_address():\n",
    "    address={}\n",
    "    street = input(\"Enter street: \")\n",
    "    address[\"street\"] = street\n",
    "\n",
    "    city = input(\"Enter city: \")\n",
    "    address[\"city\"] = city\n",
    "\n",
    "    state = input(\"Enter state: \")\n",
    "    address[\"state\"] = state\n",
    "\n",
    "    zipCode = input(\"Enter postal zip Code: \")\n",
    "    address[\"zip\"] = zipCode\n",
    "\n",
    "    return address\n",
    "\n",
    "\n",
    "\n",
    "def print_address(address):\n",
    "    print(\"mailing address: \")\n",
    "    street = address[\"street\"]\n",
    "    print(street)\n",
    "\n",
    "    city = address[\"city\"]\n",
    "    state = address[\"state\"]\n",
    "    zipCode = address[\"zip\"]\n",
    "\n",
    "    print(city +\", \" + state + \" \" + zipCode)\n",
    "    \n",
    "\n",
    "address = input_address()\n",
    "print_address(address)\n"
   ]
  },
  {
   "cell_type": "code",
   "execution_count": null,
   "metadata": {
    "collapsed": true
   },
   "outputs": [],
   "source": [
    "To do list:\n",
    "    input all ststaments into the dictionary ( city,  states,zip code)\n",
    "    \n",
    "    output the function (city, states, zip code)\n",
    "    \n",
    "print statements "
   ]
  }
 ],
 "metadata": {
  "anaconda-cloud": {},
  "kernelspec": {
   "display_name": "Python 3",
   "language": "python",
   "name": "python3"
  },
  "language_info": {
   "codemirror_mode": {
    "name": "ipython",
    "version": 3
   },
   "file_extension": ".py",
   "mimetype": "text/x-python",
   "name": "python",
   "nbconvert_exporter": "python",
   "pygments_lexer": "ipython3",
   "version": "3.5.2"
  }
 },
 "nbformat": 4,
 "nbformat_minor": 0
}
