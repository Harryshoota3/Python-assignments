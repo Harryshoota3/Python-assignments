{
 "cells": [
  {
   "cell_type": "markdown",
   "metadata": {},
   "source": [
    "# Now You Code 1: Travel Companion\n",
    "\n",
    "You're heading to Europe! Write a program which when you input an amount of money in USD will convert that to GBP (British Pounts) and EUR (Euro Dollars).\n",
    "\n",
    "The program should use the API: http://fixer.io/  to calculate the exchange rates. You must read and review the API before beginning.\n",
    "\n",
    "Example Run (Based on the exchange rates from 2017-03-06:\n",
    "\n",
    "```\n",
    "Enter the amount in USD you wish to exchange: 100\n",
    "100.00 in USD is 94.41 in EUR\n",
    "100.00 in USD is 81.48 in GBP\n",
    "```\n"
   ]
  },
  {
   "cell_type": "code",
   "execution_count": null,
   "metadata": {
    "collapsed": true
   },
   "outputs": [],
   "source": [
    "# Write your plan (todo list) here\n"
   ]
  },
  {
   "cell_type": "code",
   "execution_count": 5,
   "metadata": {
    "collapsed": false
   },
   "outputs": [
    {
     "name": "stdout",
     "output_type": "stream",
     "text": [
      "Enter the amount in USD you wish to exchange: 100\n",
      "100.00 in USD is 94.41 in EUR\n",
      "100.00 in USD is 81.48 in GBP\n"
     ]
    }
   ],
   "source": [
    "#todo write code here. \n"
   ]
  },
  {
   "cell_type": "code",
   "execution_count": 1,
   "metadata": {
    "collapsed": false
   },
   "outputs": [
    {
     "name": "stdout",
     "output_type": "stream",
     "text": [
      "Enter the amount in USE you wish to exchange: 100\n",
      "100.00 in USD is 94.07 in EUR\n",
      "100.00 in USD is 79.74 in GBP\n"
     ]
    }
   ],
   "source": [
    "import sys\n",
    "import requests\n",
    "\n",
    "base_url = 'http://api.fixer.io/latest'\n",
    "#base_currencies = ['GBP', 'EUR']\n",
    "#rate_in = 'USD'\n",
    "base_currencies = ['USD']\n",
    "rate_in = 'EUR'\n",
    "\n",
    "def get_currency_rate(currency, rate_in):\n",
    "  query = base_url + '?base=%s&symbols=%s' % (currency, rate_in)\n",
    "  try:\n",
    "    response = requests.get(query)\n",
    "    # print(\"[%s] %s\" % (response.status_code, response.url))\n",
    "    if response.status_code != 200:\n",
    "      response = 'N/A'\n",
    "      return response\n",
    "    else:\n",
    "      rates = response.json()\n",
    "      rate_in_currency = rates[\"rates\"][rate_in]\n",
    "      return rate_in_currency\n",
    "  except requests.ConnectionError as error:\n",
    "    print(error)\n",
    "    sys.exit(1)\n",
    "\n",
    "\n",
    "def main():\n",
    "    amount = float(input('Enter the amount in USE you wish to exchange: '))\n",
    "    rate = get_currency_rate('USD', 'EUR')\n",
    "    print('%.2f in USD is %.2f in EUR' % (amount, amount * rate))\n",
    "    rate = get_currency_rate('USD', 'GBP')\n",
    "    print('%.2f in USD is %.2f in GBP' % (amount, amount * rate))\n",
    "\n",
    "if __name__ == '__main__':\n",
    "  main()\n"
   ]
  },
  {
   "cell_type": "code",
   "execution_count": null,
   "metadata": {
    "collapsed": true
   },
   "outputs": [],
   "source": []
  }
 ],
 "metadata": {
  "kernelspec": {
   "display_name": "Python 3",
   "language": "python",
   "name": "python3"
  },
  "language_info": {
   "codemirror_mode": {
    "name": "ipython",
    "version": 3
   },
   "file_extension": ".py",
   "mimetype": "text/x-python",
   "name": "python",
   "nbconvert_exporter": "python",
   "pygments_lexer": "ipython3",
   "version": "3.5.2"
  }
 },
 "nbformat": 4,
 "nbformat_minor": 0
}
