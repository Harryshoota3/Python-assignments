{
 "cells": [
  {
   "cell_type": "markdown",
   "metadata": {},
   "source": [
    "# Now You Code 2: IP Addresses\n",
    "\n",
    "For this Now You Code, you will complete a very common task in data analytics: converting an IP address to an approximate location.\n",
    "\n",
    "Write a program to read the IP Addresses from the File `NYC2-IP-Addresses.txt` and for each IP address determine the approximate location (City and State) for the origin of that IP Address. This is usually done as part of analytics to determine the origins of website visitors. \n",
    "\n",
    "To perform the lookups, use the http://freegeoip.net API. You'll have to read through the API documentation first and understand how to use the API before you write the entire program.  \n",
    "\n",
    "As a first step I highly recommed that you get just the IP lookup working, perhaps writing it as a function,  and then try to read from the file and perform the lookups for each IP address in the file.\n",
    "\n",
    "Here's a sample of a geoip lookup of the IP Address `'128.230.182.217'`\n",
    "\n",
    "```\n",
    "{'city': 'Syracuse',\n",
    " 'country_code': 'US',\n",
    " 'country_name': 'United States',\n",
    " 'ip': '128.230.182.217',\n",
    " 'latitude': 43.0377,\n",
    " 'longitude': -76.1396,\n",
    " 'metro_code': 555,\n",
    " 'region_code': 'NY',\n",
    " 'region_name': 'New York',\n",
    " 'time_zone': 'America/New_York',\n",
    " 'zip_code': '13244'}\n",
    "```\n",
    "\n",
    "In this example the city and state would be `Syracuse, NY`\n",
    "\n",
    "\n",
    "Final Program Output:\n",
    "\n",
    "```\n",
    "IP: 128.122.140.238 LOCATION: New York,NY\n",
    "IP: 23.112.232.160 LOCATION: Green Bay,WI\n",
    "IP: 23.192.215.44 LOCATION: Cambridge,MA\n",
    "IP: 23.224.160.4 LOCATION: Cheyenne,WY\n",
    "IP: 23.230.12.5 LOCATION: San Jose,CA\n",
    "IP: 23.80.125.101 LOCATION: Phoenix,AZ\n",
    "IP: 23.83.132.200 LOCATION: Phoenix,AZ\n",
    "IP: 23.88.15.5 LOCATION: Los Angeles,CA\n",
    "IP: 24.0.14.56 LOCATION: Iselin,NJ\n",
    "IP: 24.1.25.140 LOCATION: Chicago,IL\n",
    "IP: 24.11.125.10 LOCATION: Orem,UT\n",
    "IP: 24.38.114.105 LOCATION: Matawan,NJ\n",
    "IP: 24.38.224.161 LOCATION: Darien,CT\n",
    "IP: 56.216.127.219 LOCATION: Raleigh,NC\n",
    "IP: 68.199.40.156 LOCATION: Elmont,NY\n",
    "IP: 74.111.18.59 LOCATION: Auburn,NY\n",
    "IP: 74.111.6.173 LOCATION: Liverpool,NY\n",
    "IP: 98.29.25.44 LOCATION: Dayton,OH\n",
    "```\n"
   ]
  },
  {
   "cell_type": "code",
   "execution_count": null,
   "metadata": {
    "collapsed": true
   },
   "outputs": [],
   "source": [
    "# todo write logic (todo list here)\n"
   ]
  },
  {
   "cell_type": "code",
   "execution_count": 3,
   "metadata": {
    "collapsed": false
   },
   "outputs": [
    {
     "ename": "TypeError",
     "evalue": "the JSON object must be str, not 'bytes'",
     "output_type": "error",
     "traceback": [
      "\u001b[0;31m---------------------------------------------------------------------------\u001b[0m",
      "\u001b[0;31mTypeError\u001b[0m                                 Traceback (most recent call last)",
      "\u001b[0;32m<ipython-input-3-bfcc90082a25>\u001b[0m in \u001b[0;36m<module>\u001b[0;34m()\u001b[0m\n\u001b[1;32m     31\u001b[0m         \u001b[1;32mfor\u001b[0m \u001b[0mline\u001b[0m \u001b[1;32min\u001b[0m \u001b[0minputfile\u001b[0m\u001b[1;33m:\u001b[0m\u001b[1;33m\u001b[0m\u001b[0m\n\u001b[1;32m     32\u001b[0m             \u001b[0mintput_ip\u001b[0m \u001b[1;33m=\u001b[0m \u001b[0mline\u001b[0m\u001b[1;33m.\u001b[0m\u001b[0mstrip\u001b[0m\u001b[1;33m(\u001b[0m\u001b[1;33m)\u001b[0m\u001b[1;33m\u001b[0m\u001b[0m\n\u001b[0;32m---> 33\u001b[0;31m             \u001b[0mgeodata\u001b[0m \u001b[1;33m=\u001b[0m \u001b[0mget_geodata\u001b[0m\u001b[1;33m(\u001b[0m\u001b[0mintput_ip\u001b[0m\u001b[1;33m)\u001b[0m\u001b[1;33m\u001b[0m\u001b[0m\n\u001b[0m\u001b[1;32m     34\u001b[0m             \u001b[0mprint\u001b[0m\u001b[1;33m(\u001b[0m\u001b[1;34m'IP: %s LOCATION: %s,%s'\u001b[0m \u001b[1;33m%\u001b[0m \u001b[1;33m(\u001b[0m\u001b[0mintput_ip\u001b[0m\u001b[1;33m,\u001b[0m \u001b[0mgeodata\u001b[0m\u001b[1;33m[\u001b[0m\u001b[1;36m0\u001b[0m\u001b[1;33m]\u001b[0m\u001b[1;33m,\u001b[0m \u001b[0mgeodata\u001b[0m\u001b[1;33m[\u001b[0m\u001b[1;36m1\u001b[0m\u001b[1;33m]\u001b[0m\u001b[1;33m)\u001b[0m\u001b[1;33m)\u001b[0m\u001b[1;33m\u001b[0m\u001b[0m\n",
      "\u001b[0;32m<ipython-input-3-bfcc90082a25>\u001b[0m in \u001b[0;36mget_geodata\u001b[0;34m(ip)\u001b[0m\n\u001b[1;32m     25\u001b[0m \u001b[1;33m\u001b[0m\u001b[0m\n\u001b[1;32m     26\u001b[0m \u001b[1;32mdef\u001b[0m \u001b[0mget_geodata\u001b[0m\u001b[1;33m(\u001b[0m\u001b[0mip\u001b[0m\u001b[1;33m)\u001b[0m\u001b[1;33m:\u001b[0m\u001b[1;33m\u001b[0m\u001b[0m\n\u001b[0;32m---> 27\u001b[0;31m     \u001b[1;32mreturn\u001b[0m \u001b[0m__get_geodata_csv\u001b[0m\u001b[1;33m(\u001b[0m\u001b[0mip\u001b[0m\u001b[1;33m)\u001b[0m\u001b[1;33m\u001b[0m\u001b[0m\n\u001b[0m\u001b[1;32m     28\u001b[0m \u001b[1;33m\u001b[0m\u001b[0m\n\u001b[1;32m     29\u001b[0m \u001b[1;32mif\u001b[0m \u001b[0m__name__\u001b[0m \u001b[1;33m==\u001b[0m \u001b[1;34m\"__main__\"\u001b[0m\u001b[1;33m:\u001b[0m\u001b[1;33m\u001b[0m\u001b[0m\n",
      "\u001b[0;32m<ipython-input-3-bfcc90082a25>\u001b[0m in \u001b[0;36m__get_geodata_csv\u001b[0;34m(ip)\u001b[0m\n\u001b[1;32m     21\u001b[0m     \u001b[0mURL\u001b[0m \u001b[1;33m=\u001b[0m \u001b[0mFREE_GEOIP_CSV_URL\u001b[0m \u001b[1;33m%\u001b[0m \u001b[0mip\u001b[0m\u001b[1;33m\u001b[0m\u001b[0m\n\u001b[1;32m     22\u001b[0m     \u001b[0mdata\u001b[0m \u001b[1;33m=\u001b[0m \u001b[0murllib\u001b[0m\u001b[1;33m.\u001b[0m\u001b[0mrequest\u001b[0m\u001b[1;33m.\u001b[0m\u001b[0murlopen\u001b[0m\u001b[1;33m(\u001b[0m\u001b[0mURL\u001b[0m\u001b[1;33m)\u001b[0m\u001b[1;33m.\u001b[0m\u001b[0mread\u001b[0m\u001b[1;33m(\u001b[0m\u001b[1;33m)\u001b[0m\u001b[1;33m\u001b[0m\u001b[0m\n\u001b[0;32m---> 23\u001b[0;31m     \u001b[0mdjson\u001b[0m \u001b[1;33m=\u001b[0m \u001b[0mjson\u001b[0m\u001b[1;33m.\u001b[0m\u001b[0mloads\u001b[0m\u001b[1;33m(\u001b[0m\u001b[0mdata\u001b[0m\u001b[1;33m)\u001b[0m\u001b[1;33m\u001b[0m\u001b[0m\n\u001b[0m\u001b[1;32m     24\u001b[0m     \u001b[1;32mreturn\u001b[0m \u001b[0mdjson\u001b[0m\u001b[1;33m[\u001b[0m\u001b[1;34m'city'\u001b[0m\u001b[1;33m]\u001b[0m\u001b[1;33m,\u001b[0m \u001b[0mdjson\u001b[0m\u001b[1;33m[\u001b[0m\u001b[1;34m'region_code'\u001b[0m\u001b[1;33m]\u001b[0m\u001b[1;33m\u001b[0m\u001b[0m\n\u001b[1;32m     25\u001b[0m \u001b[1;33m\u001b[0m\u001b[0m\n",
      "\u001b[0;32mC:\\Users\\Harry\\Miniconda3\\lib\\json\\__init__.py\u001b[0m in \u001b[0;36mloads\u001b[0;34m(s, encoding, cls, object_hook, parse_float, parse_int, parse_constant, object_pairs_hook, **kw)\u001b[0m\n\u001b[1;32m    310\u001b[0m     \u001b[1;32mif\u001b[0m \u001b[1;32mnot\u001b[0m \u001b[0misinstance\u001b[0m\u001b[1;33m(\u001b[0m\u001b[0ms\u001b[0m\u001b[1;33m,\u001b[0m \u001b[0mstr\u001b[0m\u001b[1;33m)\u001b[0m\u001b[1;33m:\u001b[0m\u001b[1;33m\u001b[0m\u001b[0m\n\u001b[1;32m    311\u001b[0m         raise TypeError('the JSON object must be str, not {!r}'.format(\n\u001b[0;32m--> 312\u001b[0;31m                             s.__class__.__name__))\n\u001b[0m\u001b[1;32m    313\u001b[0m     \u001b[1;32mif\u001b[0m \u001b[0ms\u001b[0m\u001b[1;33m.\u001b[0m\u001b[0mstartswith\u001b[0m\u001b[1;33m(\u001b[0m\u001b[1;34mu'\\ufeff'\u001b[0m\u001b[1;33m)\u001b[0m\u001b[1;33m:\u001b[0m\u001b[1;33m\u001b[0m\u001b[0m\n\u001b[1;32m    314\u001b[0m         raise JSONDecodeError(\"Unexpected UTF-8 BOM (decode using utf-8-sig)\",\n",
      "\u001b[0;31mTypeError\u001b[0m: the JSON object must be str, not 'bytes'"
     ]
    }
   ],
   "source": [
    "# write code here\n",
    "import urllib.request\n",
    "from csv import reader\n",
    "import sys\n",
    "import re\n",
    "import json\n",
    "\n",
    "FREE_GEOIP_CSV_URL = \"http://freegeoip.net/json/%s\"\n",
    "\n",
    "\n",
    "def valid_ip(ip):\n",
    "\n",
    "    pattern = r\"\\b(25[0-5]|2[0-4][0-9]|[01]?[0-9][0-9]?)\\.(25[0-5]|2[0-4][0-9]|[01]?[0-9][0-9]?)\\.(25[0-5]|2[0-4][0-9]|[01]?[0-9][0-9]?)\\.(25[0-5]|2[0-4][0-9]|[01]?[0-9][0-9]?)\\b\"\n",
    "\n",
    "    return re.match(pattern, ip)\n",
    "\n",
    "def __get_geodata_csv(ip):\n",
    "    if not valid_ip(ip):\n",
    "        raise Exception('Invalid IP format', 'You must enter a valid ip format: X.X.X.X')\n",
    "    \n",
    "    URL = FREE_GEOIP_CSV_URL % ip\n",
    "    data = urllib.request.urlopen(URL).read()\n",
    "    djson = json.loads(data)\n",
    "    return djson['city'], djson['region_code']\n",
    "\n",
    "def get_geodata(ip):\n",
    "    return __get_geodata_csv(ip)\n",
    "\n",
    "if __name__ == \"__main__\":\n",
    "    with open('NYC2-IP-Addresses.txt', 'r') as inputfile:\n",
    "        for line in inputfile:\n",
    "            intput_ip = line.strip()\n",
    "            geodata = get_geodata(intput_ip)\n",
    "            print('IP: %s LOCATION: %s,%s' % (intput_ip, geodata[0], geodata[1]))\n"
   ]
  },
  {
   "cell_type": "code",
   "execution_count": null,
   "metadata": {
    "collapsed": true
   },
   "outputs": [],
   "source": []
  }
 ],
 "metadata": {
  "anaconda-cloud": {},
  "kernelspec": {
   "display_name": "Python 3",
   "language": "python",
   "name": "python3"
  },
  "language_info": {
   "codemirror_mode": {
    "name": "ipython",
    "version": 3
   },
   "file_extension": ".py",
   "mimetype": "text/x-python",
   "name": "python",
   "nbconvert_exporter": "python",
   "pygments_lexer": "ipython3",
   "version": "3.5.2"
  }
 },
 "nbformat": 4,
 "nbformat_minor": 0
}
