{
 "cells": [
  {
   "cell_type": "code",
   "execution_count": null,
   "metadata": {
    "collapsed": false
   },
   "outputs": [
    {
     "name": "stdout",
     "output_type": "stream",
     "text": [
      "Sentiment Analyzer 2.0\n",
      "enter text: bad hate good love\n",
      "%0 neutral\n",
      "enter text:bad \n",
      "-1 negative\n",
      "enter text:happy\n",
      "1 postive\n",
      "enter text:slow\n",
      "-1 negative\n",
      "enter text:medium\n",
      "%0 neutral\n",
      "enter text:QuiT\n",
      "%0 neutral\n"
     ]
    }
   ],
   "source": [
    "def sentiment(postive_text,negative_text, input_text):\n",
    "    pos_text = postive_text.split()\n",
    "    neg_text = negative_text.split()\n",
    "    in_text = input_text.split()\n",
    "    score = 0\n",
    "    for x in in_text:\n",
    "        for y in pos_text:\n",
    "            if x == y:\n",
    "                score = score + 1\n",
    "    for i in in_text:\n",
    "        for j in neg_text:\n",
    "            if i == j:\n",
    "                score = score - 1\n",
    "    return score;\n",
    "\n",
    "\n",
    "def load_words(fileName):\n",
    "    file = open(fileName, 'r')\n",
    "    FileText = file.read()\n",
    "    return FileText\n",
    "\n",
    "print(\"Sentiment Analyzer 2.0\")\n",
    "pos = load_words(\"NYC3-pos.txt\")\n",
    "neg = load_words(\"NYC3-neg.txt\")\n",
    "\n",
    "text = input(\"enter text: \")\n",
    "while (text != \"quit\"):\n",
    "   score = sentiment(pos, neg, text)\n",
    "   if score == 0:\n",
    "        print (\"%0 neutral\")\n",
    "   elif score > 0:\n",
    "        print (\"%i postive\" %(score))\n",
    "   else:\n",
    "        print(\"%i negative\" %score)\n",
    "   text = input(\"enter text:\")"
   ]
  },
  {
   "cell_type": "code",
   "execution_count": null,
   "metadata": {
    "collapsed": true
   },
   "outputs": [],
   "source": []
  }
 ],
 "metadata": {
  "kernelspec": {
   "display_name": "Python 3",
   "language": "python",
   "name": "python3"
  },
  "language_info": {
   "codemirror_mode": {
    "name": "ipython",
    "version": 3
   },
   "file_extension": ".py",
   "mimetype": "text/x-python",
   "name": "python",
   "nbconvert_exporter": "python",
   "pygments_lexer": "ipython3",
   "version": "3.5.2"
  }
 },
 "nbformat": 4,
 "nbformat_minor": 2
}
