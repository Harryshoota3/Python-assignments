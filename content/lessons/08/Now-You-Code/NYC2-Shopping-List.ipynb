{
 "cells": [
  {
   "cell_type": "markdown",
   "metadata": {},
   "source": [
    "# Now You Code 2: Shopping List\n",
    "\n",
    "Write a program to input a list of grocery items for your shopping list and then writes them to a file a line at a time.  The program should keep asking you to enter grocery items until you type `'done'`.\n",
    "\n",
    "After you complete the list, the program should then load the file and read the list back to you by printing each item out.\n",
    "\n",
    "Sample Run:\n",
    "\n",
    "```\n",
    "Let's make a shopping list. Type 'done' when you're finished:\n",
    "Enter Item: milk\n",
    "Enter Item: cheese\n",
    "Enter Item: eggs\n",
    "Enter Item: beer\n",
    "Enter Item: apples\n",
    "Enter Item: done\n",
    "Your shopping list:\n",
    "milk\n",
    "cheese\n",
    "eggs\n",
    "beer\n",
    "apples\n",
    "```\n",
    "\n",
    "As usual, first write out your TO-DO list plan for the program before you write any code.\n"
   ]
  },
  {
   "cell_type": "code",
   "execution_count": null,
   "metadata": {
    "collapsed": true
   },
   "outputs": [],
   "source": [
    "## TODO list for program\n"
   ]
  },
  {
   "cell_type": "code",
   "execution_count": 1,
   "metadata": {
    "collapsed": false
   },
   "outputs": [
    {
     "name": "stdout",
     "output_type": "stream",
     "text": [
      "Let's make a shopping list. press done when you're finished\n",
      "enter item: milk\n",
      "enter item: done\n"
     ]
    }
   ],
   "source": [
    "filename = \"NYC2-shopping-list.txt\"\n",
    "##TODO write code here\n",
    "print(\"Let's make a shopping list. press done when you're finished\")\n",
    "\n",
    "done = False\n",
    "fileName = \"NYC2-shopping-list.txt\"\n",
    "shopping_list = []\n",
    "\n",
    "while (done == False):\n",
    "    item = input(\"enter item: \")\n",
    "    shopping_list.append(item)\n",
    "    if item == \"done\":\n",
    "        done = True\n",
    "\n",
    "file = open(fileName, 'w')\n",
    "\n",
    "for x in shopping_list:\n",
    "    file.write(x + '\\n')\n",
    "file.close()\n",
    "   "
   ]
  },
  {
   "cell_type": "code",
   "execution_count": null,
   "metadata": {
    "collapsed": true
   },
   "outputs": [],
   "source": []
  }
 ],
 "metadata": {
  "anaconda-cloud": {},
  "kernelspec": {
   "display_name": "Python 3",
   "language": "python",
   "name": "python3"
  },
  "language_info": {
   "codemirror_mode": {
    "name": "ipython",
    "version": 3
   },
   "file_extension": ".py",
   "mimetype": "text/x-python",
   "name": "python",
   "nbconvert_exporter": "python",
   "pygments_lexer": "ipython3",
   "version": "3.5.2"
  }
 },
 "nbformat": 4,
 "nbformat_minor": 0
}
