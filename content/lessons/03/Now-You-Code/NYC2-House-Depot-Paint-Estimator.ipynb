{
 "cells": [
  {
   "cell_type": "markdown",
   "metadata": {},
   "source": [
    "# Now You Code 2: House Depot Paint Estimator\n",
    "\n",
    "The big-box hardware store *House Depot* as contracted you to write an App to estimate the amount of paint required to paint a room. Given that 1 gallon of paint covers 400 square feet, you must output the number of paint cans required to paint a rectangular room.\n",
    "\n",
    "The program should input:\n",
    "\n",
    "- the length of the room in feet, \n",
    "- the width of the room in feet,\n",
    "- the height of the room in feet\n",
    "\n",
    "The program should output:\n",
    "\n",
    "- total area to be painted ( sum of each of the 4 walls)\n",
    "- the number of gallons of paint required to paint the room.\n",
    "\n",
    "Example:\n",
    "\n",
    "```\n",
    "Enter length of room: 12\n",
    "Enter width of room: 14\n",
    "Enter height of room: 8\n",
    "Total area to be painted: 416.00\n",
    "Total gallons of paint requried: 2\n",
    "```\n",
    "\n",
    "HINT: Use the `math.ceil()` function to round your number of gallons up to the nearest whole number \n",
    "\n",
    "\n",
    "**Start out your program by writing your TODO list of steps you'll need to solve the problems.**\n"
   ]
  },
  {
   "cell_type": "code",
   "execution_count": 3,
   "metadata": {
    "collapsed": false
   },
   "outputs": [],
   "source": [
    "# To-Do list here\n"
   ]
  },
  {
   "cell_type": "code",
   "execution_count": 1,
   "metadata": {
    "collapsed": false
   },
   "outputs": [
    {
     "name": "stdout",
     "output_type": "stream",
     "text": [
      "enter length of room:40\n",
      "enter width of room:50\n",
      "enter height of room:60\n",
      "total_area_to_be_painted: 14800.0\n",
      "the_number_of_gallons_paint_required: 37.0\n",
      "the_number_of_gallons_paint_required: 37\n"
     ]
    }
   ],
   "source": [
    "## import math # you need this to use math.ceil() \n",
    "# Code Here\n",
    "import math\n",
    "length = float(input(\"enter length of room:\"))\n",
    "width = float(input(\"enter width of room:\"))\n",
    "height = float(input(\"enter height of room:\" ))\n",
    "total_area_to_be_painted = (length*width+length*height+width*height)*2\n",
    "the_number_of_gallons_paint_required = total_area_to_be_painted/400\n",
    "math.ceil(the_number_of_gallons_paint_required)\n",
    "print(\"total_area_to_be_painted:\",total_area_to_be_painted)\n",
    "print(\"the_number_of_gallons_paint_required:\",the_number_of_gallons_paint_required)\n",
    "print(\"the_number_of_gallons_paint_required:\",math.ceil(the_number_of_gallons_paint_required))\n"
   ]
  },
  {
   "cell_type": "code",
   "execution_count": null,
   "metadata": {
    "collapsed": true
   },
   "outputs": [],
   "source": []
  }
 ],
 "metadata": {
  "anaconda-cloud": {},
  "kernelspec": {
   "display_name": "Python 3",
   "language": "python",
   "name": "python3"
  },
  "language_info": {
   "codemirror_mode": {
    "name": "ipython",
    "version": 3
   },
   "file_extension": ".py",
   "mimetype": "text/x-python",
   "name": "python",
   "nbconvert_exporter": "python",
   "pygments_lexer": "ipython3",
   "version": "3.5.2"
  }
 },
 "nbformat": 4,
 "nbformat_minor": 0
}
