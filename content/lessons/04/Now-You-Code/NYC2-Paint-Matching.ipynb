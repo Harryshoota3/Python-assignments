{
 "cells": [
  {
   "cell_type": "markdown",
   "metadata": {},
   "source": [
    "# Now You Code 2: Paint Pricing\n",
    "\n",
    "House Depot, a big-box hardware retailer, has contracted you to create an app to calculate paint prices. \n",
    "\n",
    "The price of paint is determined by the following factors:\n",
    "\n",
    "- Everyday quality paint is $19.99 / gallon.\n",
    "- Select quality paint is $24.99 / gallon.\n",
    "- Premium quality paint is $32.99 / gallon.\n",
    "\n",
    "In addition if the customer wants computerized color-matching that incurs an additional fee of $4.99 per gallon. \n",
    "\n",
    "Write a program to ask the user to select a paint quality: 'everyday', 'select' or 'premium' and then whether they need color matching and then outputs the price per gallon of the paint.\n",
    "\n",
    "Example Run 1:\n",
    "\n",
    "```\n",
    "Which paint quality do you require ['everyday', 'select', 'premium'] ?select\n",
    "Do you require color matching [y/n] ?y\n",
    "Total price of select paint with color matching is $29.98\n",
    "```\n",
    "\n",
    "Example Run 2:\n",
    "\n",
    "```\n",
    "Which paint quality do you require ['everyday', 'select', 'premium'] ?premium\n",
    "Do you require color matching [y/n] ?n\n",
    "Total price of premium paint without color matching is $32.99\n",
    "```\n",
    "\n",
    "\n",
    "Make sure to write your To-do list before coding the program."
   ]
  },
  {
   "cell_type": "code",
   "execution_count": 1,
   "metadata": {
    "collapsed": false
   },
   "outputs": [
    {
     "name": "stdout",
     "output_type": "stream",
     "text": [
      "Which paint quality do you require ['everyday','select','prenium']?select\n",
      "Do you require color matching? y/ny\n",
      "The total price of select with color matching is 29.980000\n"
     ]
    }
   ],
   "source": [
    "quality = input(\"Which paint quality do you require ['everyday','select','prenium']?\")\n",
    "color_matching = input(\"Do you require color matching? y/n\")\n",
    "\n",
    "total = 0\n",
    "\n",
    "if quality == \"every\":\n",
    "    total = 19.99\n",
    "    \n",
    "elif quality == \"select\":\n",
    "    total = 24.99\n",
    "\n",
    "if color_matching == \"prenium\":\n",
    "    total = 32.99\n",
    "\n",
    "if color_matching == \"y\":\n",
    "    total = total + 4.99\n",
    "    print(\"The total price of \" + quality + \" with color matching is %f\" %total)\n",
    "    \n",
    "elif color_matching == \"n\":\n",
    "    print(\"The total price of \" + quality + \" without color matching is %f\" %total)"
   ]
  },
  {
   "cell_type": "code",
   "execution_count": 9,
   "metadata": {
    "collapsed": false
   },
   "outputs": [],
   "source": [
    "# CODE Here\n"
   ]
  }
 ],
 "metadata": {
  "anaconda-cloud": {},
  "kernelspec": {
   "display_name": "Python 3",
   "language": "python",
   "name": "python3"
  },
  "language_info": {
   "codemirror_mode": {
    "name": "ipython",
    "version": 3
   },
   "file_extension": ".py",
   "mimetype": "text/x-python",
   "name": "python",
   "nbconvert_exporter": "python",
   "pygments_lexer": "ipython3",
   "version": "3.5.2"
  }
 },
 "nbformat": 4,
 "nbformat_minor": 0
}
