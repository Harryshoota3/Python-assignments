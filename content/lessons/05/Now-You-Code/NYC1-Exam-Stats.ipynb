{
 "cells": [
  {
   "cell_type": "markdown",
   "metadata": {},
   "source": [
    "# Now You Code 1: Exam Stats\n",
    "\n",
    "Write a program to input exam scores (out of 100) until you enter 'quit'. After you finish entering exam scores the program will print out the average of all the exam scores.\n",
    "\n",
    "**HINTS:** \n",
    "\n",
    "- To figure out the average you must keep a running total of exam scores and a count of the number entered.\n",
    "- Try to make the program work 1 time, then figure out the exit condition and use a while True: loop.\n",
    "\n",
    "Example Run:\n",
    "\n",
    "```\n",
    "Enter exam score or type 'quit': 100\n",
    "Enter exam score or type 'quit': 100\n",
    "Enter exam score or type 'quit': 50\n",
    "Enter exam score or type 'quit': quit\n",
    "Number of scores 3. Average is 83.33\n",
    "```"
   ]
  },
  {
   "cell_type": "code",
   "execution_count": null,
   "metadata": {
    "collapsed": false
   },
   "outputs": [
    {
     "name": "stdout",
     "output_type": "stream",
     "text": [
      "Enter exam scorer or type 'quit'65\n",
      "Nuber of scores 1 . Average is 65.00\n"
     ]
    }
   ],
   "source": [
    "def average():\n",
    "    sum1 = 0\n",
    "    i = 0\n",
    "    avg = 0\n",
    "    while True:\n",
    "        score = input(\"Enter exam scorer or type 'quit'\")\n",
    "        if score ==\"quit\":\n",
    "            break;\n",
    "        else:\n",
    "            sum1 += int(score)\n",
    "            i += 1\n",
    "        avg = sum1/i\n",
    "        print(\"Number of scores\",i,\". Average is %.2f\"%avg)\n",
    "        \n",
    "average()\n"
   ]
  },
  {
   "cell_type": "code",
   "execution_count": null,
   "metadata": {
    "collapsed": false
   },
   "outputs": [],
   "source": [
    "\n"
   ]
  },
  {
   "cell_type": "code",
   "execution_count": null,
   "metadata": {
    "collapsed": true
   },
   "outputs": [],
   "source": []
  },
  {
   "cell_type": "code",
   "execution_count": null,
   "metadata": {
    "collapsed": true
   },
   "outputs": [],
   "source": []
  },
  {
   "cell_type": "code",
   "execution_count": null,
   "metadata": {
    "collapsed": true
   },
   "outputs": [],
   "source": []
  },
  {
   "cell_type": "code",
   "execution_count": null,
   "metadata": {
    "collapsed": true
   },
   "outputs": [],
   "source": []
  }
 ],
 "metadata": {
  "anaconda-cloud": {},
  "kernelspec": {
   "display_name": "Python 3",
   "language": "python",
   "name": "python3"
  },
  "language_info": {
   "codemirror_mode": {
    "name": "ipython",
    "version": 3
   },
   "file_extension": ".py",
   "mimetype": "text/x-python",
   "name": "python",
   "nbconvert_exporter": "python",
   "pygments_lexer": "ipython3",
   "version": "3.5.2"
  }
 },
 "nbformat": 4,
 "nbformat_minor": 0
}
